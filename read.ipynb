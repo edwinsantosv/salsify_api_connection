{
 "cells": [
  {
   "cell_type": "markdown",
   "metadata": {},
   "source": [
    "# Salsify API connection"
   ]
  },
  {
   "cell_type": "markdown",
   "metadata": {},
   "source": [
    "### Reading all records"
   ]
  },
  {
   "cell_type": "markdown",
   "metadata": {},
   "source": [
    "The only package needed for this connection is http.client"
   ]
  },
  {
   "cell_type": "code",
   "execution_count": 85,
   "metadata": {},
   "outputs": [],
   "source": [
    "import http.client"
   ]
  },
  {
   "cell_type": "markdown",
   "metadata": {},
   "source": [
    "For making the connection, both organization ID and API token are needed. You could obtain API Token in this link:\n",
    "- [API Token]('https://app.salsify.com/app/orgs/s-9bd6b845-0218-4e55-a36a-fe1c42b70abc/profile/edit/api')\n",
    "\n",
    "Organization ID is in all URLs. In our case is the following:\n",
    "- s-9bd6b845-0218-4e55-a36a-fe1c42b70abc"
   ]
  },
  {
   "cell_type": "code",
   "execution_count": 86,
   "metadata": {},
   "outputs": [],
   "source": [
    "API_token='c7C4sSLiMnngD8PUZO7gPog8YPkFpof1mnd1nkNU7ZA'\n",
    "org_id='s-9bd6b845-0218-4e55-a36a-fe1c42b70abc'"
   ]
  },
  {
   "cell_type": "markdown",
   "metadata": {},
   "source": [
    "You can read all data as follows:"
   ]
  },
  {
   "cell_type": "code",
   "execution_count": 137,
   "metadata": {},
   "outputs": [],
   "source": [
    "conn = http.client.HTTPSConnection(\"app.salsify.com\")\n",
    "\n",
    "headers = {\n",
    "    'authorization': \"Bearer \"+API_token,\n",
    "    }\n",
    "\n",
    "conn.request(\"GET\", \"/api/v1/orgs/%s/products\" %org_id, headers=headers)\n",
    "\n",
    "\n",
    "res = conn.getresponse()\n",
    "data = res.read()\n",
    "\n",
    "read_data=data.decode(\"utf-8\") #Read data is stored in read_data variable"
   ]
  },
  {
   "cell_type": "code",
   "execution_count": null,
   "metadata": {},
   "outputs": [],
   "source": [
    "#Cursor:\n",
    "#conn.request(\"GET\", \"/api/v1/orgs/%s/products?cursor=eyJzb3J0X3ZhbHVlcyI6WyIxMFBLRC1CTzJCMDktQlIxWkwiXX0=\" %org_id, headers=headers)"
   ]
  },
  {
   "cell_type": "markdown",
   "metadata": {},
   "source": [
    "Single product"
   ]
  },
  {
   "cell_type": "code",
   "execution_count": 140,
   "metadata": {},
   "outputs": [
    {
     "name": "stdout",
     "output_type": "stream",
     "text": [
      "{\"salsify:id\":\"10BTC-GIAN63-001MO\",\"salsify:created_at\":\"2021-12-09T21:03:17.451Z\",\"salsify:updated_at\":\"2021-12-09T21:03:17.451Z\",\"salsify:version\":0,\"salsify:profile_asset_id\":null,\"salsify:system_id\":\"s-7e40d568-b1e0-4ddd-b07a-b73eb41f6205\",\"Internal Item ID\":\"10BTC-GIAN63-001MO\",\"Product Name\":\"Gianna Bath tub seamless with Abbey faucet; 63'' Acrylic white\",\"Costco Item Number\":\"1108678\",\"Lowe's IVM\":\"--\"}\n"
     ]
    }
   ],
   "source": [
    "conn = http.client.HTTPSConnection(\"app.salsify.com\")\n",
    "\n",
    "headers = {\n",
    "    'authorization': \"Bearer \"+API_token,\n",
    "    }\n",
    "\n",
    "conn.request(\"GET\", \"/api/v1/orgs/%s/products/10BTC-GIAN63-001MO\" %org_id, headers=headers)\n",
    "\n",
    "\n",
    "res = conn.getresponse()\n",
    "data = res.read()\n",
    "\n",
    "print(data.decode(\"utf-8\")) #Read data is stored in read_data variable"
   ]
  },
  {
   "cell_type": "markdown",
   "metadata": {},
   "source": [
    "Digital information (Pictures)"
   ]
  },
  {
   "cell_type": "code",
   "execution_count": 146,
   "metadata": {},
   "outputs": [],
   "source": [
    "conn = http.client.HTTPSConnection(\"app.salsify.com\")\n",
    "\n",
    "headers = {\n",
    "    'authorization': \"Bearer \"+API_token,\n",
    "    }\n",
    "\n",
    "conn.request(\"GET\", \"/api/v1/orgs/%s/digital_assets\" %org_id, headers=headers)\n",
    "\n",
    "\n",
    "res = conn.getresponse()\n",
    "data = res.read()\n",
    "\n",
    "digital_data=data.decode(\"utf-8\") #Read data is stored in read_data variable"
   ]
  },
  {
   "cell_type": "markdown",
   "metadata": {},
   "source": [
    "### Handling Data"
   ]
  },
  {
   "cell_type": "markdown",
   "metadata": {},
   "source": [
    "To handle data it is better to convert data into a dictionary, instead of a string. For this we need to import json library. "
   ]
  },
  {
   "cell_type": "code",
   "execution_count": 88,
   "metadata": {},
   "outputs": [],
   "source": [
    "import json"
   ]
  },
  {
   "cell_type": "code",
   "execution_count": 89,
   "metadata": {},
   "outputs": [],
   "source": [
    "data_dict=json.loads(read_data)\n",
    "data_dict_data=data_dict['data']"
   ]
  },
  {
   "cell_type": "code",
   "execution_count": 90,
   "metadata": {},
   "outputs": [],
   "source": [
    "import pandas as pd"
   ]
  },
  {
   "cell_type": "code",
   "execution_count": 139,
   "metadata": {},
   "outputs": [
    {
     "data": {
      "text/html": [
       "<div>\n",
       "<style scoped>\n",
       "    .dataframe tbody tr th:only-of-type {\n",
       "        vertical-align: middle;\n",
       "    }\n",
       "\n",
       "    .dataframe tbody tr th {\n",
       "        vertical-align: top;\n",
       "    }\n",
       "\n",
       "    .dataframe thead th {\n",
       "        text-align: right;\n",
       "    }\n",
       "</style>\n",
       "<table border=\"1\" class=\"dataframe\">\n",
       "  <thead>\n",
       "    <tr style=\"text-align: right;\">\n",
       "      <th></th>\n",
       "      <th>salsify:id</th>\n",
       "      <th>salsify:created_at</th>\n",
       "      <th>salsify:updated_at</th>\n",
       "      <th>salsify:version</th>\n",
       "      <th>salsify:profile_asset_id</th>\n",
       "      <th>salsify:system_id</th>\n",
       "      <th>Internal Item ID</th>\n",
       "      <th>Product Name</th>\n",
       "      <th>Costco Item Number</th>\n",
       "      <th>Lowe's IVM</th>\n",
       "    </tr>\n",
       "  </thead>\n",
       "  <tbody>\n",
       "    <tr>\n",
       "      <th>0</th>\n",
       "      <td>10BTC-BART69-001MO</td>\n",
       "      <td>2021-12-09T21:03:16.675Z</td>\n",
       "      <td>2021-12-09T21:03:16.675Z</td>\n",
       "      <td>0</td>\n",
       "      <td>None</td>\n",
       "      <td>s-a55c845c-3dc7-480f-b7b7-6cd1d25f9ad4</td>\n",
       "      <td>10BTC-BART69-001MO</td>\n",
       "      <td>Bart 2001 Bath tub Combo ; 69'' Acrylic white</td>\n",
       "      <td>1069898</td>\n",
       "      <td>--</td>\n",
       "    </tr>\n",
       "    <tr>\n",
       "      <th>1</th>\n",
       "      <td>10BTC-GIAN63-001MO</td>\n",
       "      <td>2021-12-09T21:03:17.451Z</td>\n",
       "      <td>2021-12-09T21:03:17.451Z</td>\n",
       "      <td>0</td>\n",
       "      <td>None</td>\n",
       "      <td>s-7e40d568-b1e0-4ddd-b07a-b73eb41f6205</td>\n",
       "      <td>10BTC-GIAN63-001MO</td>\n",
       "      <td>Gianna Bath tub seamless with Abbey faucet; 63...</td>\n",
       "      <td>1108678</td>\n",
       "      <td>--</td>\n",
       "    </tr>\n",
       "    <tr>\n",
       "      <th>2</th>\n",
       "      <td>10BTF-621600-CHRMO</td>\n",
       "      <td>2021-12-09T21:03:17.409Z</td>\n",
       "      <td>2021-12-09T21:03:17.409Z</td>\n",
       "      <td>0</td>\n",
       "      <td>None</td>\n",
       "      <td>s-345666d8-4c29-44fb-8da0-bcf5c72b948e</td>\n",
       "      <td>10BTF-621600-CHRMO</td>\n",
       "      <td>Mikhail Bathtub free standing faucet Kraan; ch...</td>\n",
       "      <td>6136133</td>\n",
       "      <td>--</td>\n",
       "    </tr>\n",
       "    <tr>\n",
       "      <th>3</th>\n",
       "      <td>10BTF-960110-MBLMO</td>\n",
       "      <td>2021-12-09T21:03:16.675Z</td>\n",
       "      <td>2021-12-09T21:03:16.675Z</td>\n",
       "      <td>0</td>\n",
       "      <td>None</td>\n",
       "      <td>s-dfc7b680-cab8-4898-8f2c-af3d4973ce98</td>\n",
       "      <td>10BTF-960110-MBLMO</td>\n",
       "      <td>Athena Free standing bath tub faucet Matte Bla...</td>\n",
       "      <td>1634450</td>\n",
       "      <td>--</td>\n",
       "    </tr>\n",
       "    <tr>\n",
       "      <th>4</th>\n",
       "      <td>10BTF-DAVI10-BRAMO</td>\n",
       "      <td>2021-12-09T21:03:16.675Z</td>\n",
       "      <td>2021-12-09T21:03:16.675Z</td>\n",
       "      <td>0</td>\n",
       "      <td>None</td>\n",
       "      <td>s-4afc763a-b7a2-44a4-9121-30c9e264ef1f</td>\n",
       "      <td>10BTF-DAVI10-BRAMO</td>\n",
       "      <td>Blanche Free standing bath tub faucet</td>\n",
       "      <td>6136134</td>\n",
       "      <td>--</td>\n",
       "    </tr>\n",
       "    <tr>\n",
       "      <th>...</th>\n",
       "      <td>...</td>\n",
       "      <td>...</td>\n",
       "      <td>...</td>\n",
       "      <td>...</td>\n",
       "      <td>...</td>\n",
       "      <td>...</td>\n",
       "      <td>...</td>\n",
       "      <td>...</td>\n",
       "      <td>...</td>\n",
       "      <td>...</td>\n",
       "    </tr>\n",
       "    <tr>\n",
       "      <th>95</th>\n",
       "      <td>10PKC-SUTT05-CASVI</td>\n",
       "      <td>2021-12-09T21:03:17.286Z</td>\n",
       "      <td>2021-12-09T21:03:17.286Z</td>\n",
       "      <td>0</td>\n",
       "      <td>None</td>\n",
       "      <td>s-7e2de3ca-3ee3-4a30-972f-09883b6b445e</td>\n",
       "      <td>10PKC-SUTT05-CASVI</td>\n",
       "      <td>Sutton 5PCS Sectional Set (2019-2021)</td>\n",
       "      <td>1282797</td>\n",
       "      <td>--</td>\n",
       "    </tr>\n",
       "    <tr>\n",
       "      <th>96</th>\n",
       "      <td>10PKC-VANC03-GRYVL</td>\n",
       "      <td>2021-12-09T21:03:17.286Z</td>\n",
       "      <td>2021-12-09T21:03:17.286Z</td>\n",
       "      <td>0</td>\n",
       "      <td>None</td>\n",
       "      <td>s-d7cb835e-c743-4727-ae07-0db79965bcac</td>\n",
       "      <td>10PKC-VANC03-GRYVL</td>\n",
       "      <td>Vance 3 PCS Bistro; Grey (MAP) (2020-2021)</td>\n",
       "      <td>1389547</td>\n",
       "      <td>--</td>\n",
       "    </tr>\n",
       "    <tr>\n",
       "      <th>97</th>\n",
       "      <td>10PKC-VIEN04-GRYVL</td>\n",
       "      <td>2021-12-09T21:03:17.286Z</td>\n",
       "      <td>2021-12-09T21:03:17.286Z</td>\n",
       "      <td>0</td>\n",
       "      <td>None</td>\n",
       "      <td>s-809cff68-f3dd-4efa-9e35-81eba87c7e31</td>\n",
       "      <td>10PKC-VIEN04-GRYVL</td>\n",
       "      <td>Vienna 4 PCS Chat Set; Grey (2020-2021)</td>\n",
       "      <td>1389551</td>\n",
       "      <td>--</td>\n",
       "    </tr>\n",
       "    <tr>\n",
       "      <th>98</th>\n",
       "      <td>10PKD-BO2B07-BR1ZL</td>\n",
       "      <td>2021-12-09T21:03:16.675Z</td>\n",
       "      <td>2021-12-09T21:03:16.675Z</td>\n",
       "      <td>0</td>\n",
       "      <td>None</td>\n",
       "      <td>s-9e4b7f7e-8be8-48f8-82a9-1d014830adc8</td>\n",
       "      <td>10PKD-BO2B07-BR1ZL</td>\n",
       "      <td>Bottega Dining 7PC-II-B-SUN (Captain Chairs) (...</td>\n",
       "      <td>1517957</td>\n",
       "      <td>--</td>\n",
       "    </tr>\n",
       "    <tr>\n",
       "      <th>99</th>\n",
       "      <td>10PKD-BO2B09-BR1ZL</td>\n",
       "      <td>2021-12-09T21:03:16.675Z</td>\n",
       "      <td>2021-12-09T21:03:16.675Z</td>\n",
       "      <td>0</td>\n",
       "      <td>None</td>\n",
       "      <td>s-9197d24d-4517-4478-80f4-4cd24b170894</td>\n",
       "      <td>10PKD-BO2B09-BR1ZL</td>\n",
       "      <td>Bottega Dining 9PC-II-B-SUN (2021)</td>\n",
       "      <td>1517961</td>\n",
       "      <td>--</td>\n",
       "    </tr>\n",
       "  </tbody>\n",
       "</table>\n",
       "<p>100 rows × 10 columns</p>\n",
       "</div>"
      ],
      "text/plain": [
       "            salsify:id        salsify:created_at        salsify:updated_at  \\\n",
       "0   10BTC-BART69-001MO  2021-12-09T21:03:16.675Z  2021-12-09T21:03:16.675Z   \n",
       "1   10BTC-GIAN63-001MO  2021-12-09T21:03:17.451Z  2021-12-09T21:03:17.451Z   \n",
       "2   10BTF-621600-CHRMO  2021-12-09T21:03:17.409Z  2021-12-09T21:03:17.409Z   \n",
       "3   10BTF-960110-MBLMO  2021-12-09T21:03:16.675Z  2021-12-09T21:03:16.675Z   \n",
       "4   10BTF-DAVI10-BRAMO  2021-12-09T21:03:16.675Z  2021-12-09T21:03:16.675Z   \n",
       "..                 ...                       ...                       ...   \n",
       "95  10PKC-SUTT05-CASVI  2021-12-09T21:03:17.286Z  2021-12-09T21:03:17.286Z   \n",
       "96  10PKC-VANC03-GRYVL  2021-12-09T21:03:17.286Z  2021-12-09T21:03:17.286Z   \n",
       "97  10PKC-VIEN04-GRYVL  2021-12-09T21:03:17.286Z  2021-12-09T21:03:17.286Z   \n",
       "98  10PKD-BO2B07-BR1ZL  2021-12-09T21:03:16.675Z  2021-12-09T21:03:16.675Z   \n",
       "99  10PKD-BO2B09-BR1ZL  2021-12-09T21:03:16.675Z  2021-12-09T21:03:16.675Z   \n",
       "\n",
       "    salsify:version salsify:profile_asset_id  \\\n",
       "0                 0                     None   \n",
       "1                 0                     None   \n",
       "2                 0                     None   \n",
       "3                 0                     None   \n",
       "4                 0                     None   \n",
       "..              ...                      ...   \n",
       "95                0                     None   \n",
       "96                0                     None   \n",
       "97                0                     None   \n",
       "98                0                     None   \n",
       "99                0                     None   \n",
       "\n",
       "                         salsify:system_id    Internal Item ID  \\\n",
       "0   s-a55c845c-3dc7-480f-b7b7-6cd1d25f9ad4  10BTC-BART69-001MO   \n",
       "1   s-7e40d568-b1e0-4ddd-b07a-b73eb41f6205  10BTC-GIAN63-001MO   \n",
       "2   s-345666d8-4c29-44fb-8da0-bcf5c72b948e  10BTF-621600-CHRMO   \n",
       "3   s-dfc7b680-cab8-4898-8f2c-af3d4973ce98  10BTF-960110-MBLMO   \n",
       "4   s-4afc763a-b7a2-44a4-9121-30c9e264ef1f  10BTF-DAVI10-BRAMO   \n",
       "..                                     ...                 ...   \n",
       "95  s-7e2de3ca-3ee3-4a30-972f-09883b6b445e  10PKC-SUTT05-CASVI   \n",
       "96  s-d7cb835e-c743-4727-ae07-0db79965bcac  10PKC-VANC03-GRYVL   \n",
       "97  s-809cff68-f3dd-4efa-9e35-81eba87c7e31  10PKC-VIEN04-GRYVL   \n",
       "98  s-9e4b7f7e-8be8-48f8-82a9-1d014830adc8  10PKD-BO2B07-BR1ZL   \n",
       "99  s-9197d24d-4517-4478-80f4-4cd24b170894  10PKD-BO2B09-BR1ZL   \n",
       "\n",
       "                                         Product Name Costco Item Number  \\\n",
       "0       Bart 2001 Bath tub Combo ; 69'' Acrylic white            1069898   \n",
       "1   Gianna Bath tub seamless with Abbey faucet; 63...            1108678   \n",
       "2   Mikhail Bathtub free standing faucet Kraan; ch...            6136133   \n",
       "3   Athena Free standing bath tub faucet Matte Bla...            1634450   \n",
       "4               Blanche Free standing bath tub faucet            6136134   \n",
       "..                                                ...                ...   \n",
       "95              Sutton 5PCS Sectional Set (2019-2021)            1282797   \n",
       "96         Vance 3 PCS Bistro; Grey (MAP) (2020-2021)            1389547   \n",
       "97            Vienna 4 PCS Chat Set; Grey (2020-2021)            1389551   \n",
       "98  Bottega Dining 7PC-II-B-SUN (Captain Chairs) (...            1517957   \n",
       "99                 Bottega Dining 9PC-II-B-SUN (2021)            1517961   \n",
       "\n",
       "   Lowe's IVM  \n",
       "0          --  \n",
       "1          --  \n",
       "2          --  \n",
       "3          --  \n",
       "4          --  \n",
       "..        ...  \n",
       "95         --  \n",
       "96         --  \n",
       "97         --  \n",
       "98         --  \n",
       "99         --  \n",
       "\n",
       "[100 rows x 10 columns]"
      ]
     },
     "execution_count": 139,
     "metadata": {},
     "output_type": "execute_result"
    }
   ],
   "source": [
    "salsify_items=pd.DataFrame(data_dict_data)\n",
    "salsify_items"
   ]
  }
 ],
 "metadata": {
  "interpreter": {
   "hash": "8002bedf9a94ee793c12e0954d6e4653779deb5a25e8bf088b2019dddc2e5220"
  },
  "kernelspec": {
   "display_name": "Python 3.9.12 ('data_analysis')",
   "language": "python",
   "name": "python3"
  },
  "language_info": {
   "codemirror_mode": {
    "name": "ipython",
    "version": 3
   },
   "file_extension": ".py",
   "mimetype": "text/x-python",
   "name": "python",
   "nbconvert_exporter": "python",
   "pygments_lexer": "ipython3",
   "version": "3.9.12"
  },
  "orig_nbformat": 4
 },
 "nbformat": 4,
 "nbformat_minor": 2
}
